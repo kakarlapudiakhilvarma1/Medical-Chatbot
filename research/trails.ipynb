{
 "cells": [
  {
   "cell_type": "code",
   "execution_count": 3,
   "metadata": {},
   "outputs": [
    {
     "data": {
      "text/plain": [
       "'d:\\\\Generative AI\\\\Projects\\\\Medical-Chatbot\\\\research'"
      ]
     },
     "execution_count": 3,
     "metadata": {},
     "output_type": "execute_result"
    }
   ],
   "source": [
    "%pwd"
   ]
  },
  {
   "cell_type": "code",
   "execution_count": 4,
   "metadata": {},
   "outputs": [],
   "source": [
    "from langchain_community.document_loaders import PyPDFLoader, DirectoryLoader\n",
    "from langchain.text_splitter import RecursiveCharacterTextSplitter\n"
   ]
  },
  {
   "cell_type": "code",
   "execution_count": 5,
   "metadata": {},
   "outputs": [],
   "source": [
    "## Extract the data from the pdf\n",
    "\n",
    "def load_pdf_file(data):\n",
    "    loader = DirectoryLoader(data, glob=\"*.pdf\", loader_cls=PyPDFLoader)\n",
    "\n",
    "    documents = loader.load()\n",
    "    return documents"
   ]
  },
  {
   "cell_type": "code",
   "execution_count": 7,
   "metadata": {},
   "outputs": [],
   "source": [
    "import os\n",
    "os.chdir(\"../\")"
   ]
  },
  {
   "cell_type": "code",
   "execution_count": 8,
   "metadata": {},
   "outputs": [
    {
     "data": {
      "text/plain": [
       "'d:\\\\Generative AI\\\\Projects\\\\Medical-Chatbot'"
      ]
     },
     "execution_count": 8,
     "metadata": {},
     "output_type": "execute_result"
    }
   ],
   "source": [
    "%pwd"
   ]
  },
  {
   "cell_type": "code",
   "execution_count": 9,
   "metadata": {},
   "outputs": [],
   "source": [
    "extracted_data = load_pdf_file(data='Data/')"
   ]
  },
  {
   "cell_type": "code",
   "execution_count": 10,
   "metadata": {},
   "outputs": [],
   "source": [
    "## Split the data into chuncks\n",
    "def text_split(extracted_data):\n",
    "    text_splitter = RecursiveCharacterTextSplitter(chunk_size=500, chunk_overlap=20)\n",
    "    text_chunks = text_splitter.split_documents(extracted_data)\n",
    "    return text_chunks"
   ]
  },
  {
   "cell_type": "code",
   "execution_count": 11,
   "metadata": {},
   "outputs": [
    {
     "name": "stdout",
     "output_type": "stream",
     "text": [
      "length of text chunks 6970\n"
     ]
    }
   ],
   "source": [
    "text_chunks = text_split(extracted_data)\n",
    "print(\"length of text chunks\", len(text_chunks))\n"
   ]
  },
  {
   "cell_type": "code",
   "execution_count": 12,
   "metadata": {},
   "outputs": [],
   "source": [
    "## Download the embedding from hugging face\n",
    "from langchain_huggingface import HuggingFaceEmbeddings\n",
    "def download_huggging_face_embeddings():\n",
    "    embeddings = HuggingFaceEmbeddings(model_name=\"all-MiniLM-L12-v2\")\n",
    "    return embeddings\n"
   ]
  },
  {
   "cell_type": "code",
   "execution_count": 13,
   "metadata": {},
   "outputs": [
    {
     "name": "stderr",
     "output_type": "stream",
     "text": [
      "d:\\Generative AI\\Projects\\Medical-Chatbot\\myenv\\lib\\site-packages\\tqdm\\auto.py:21: TqdmWarning: IProgress not found. Please update jupyter and ipywidgets. See https://ipywidgets.readthedocs.io/en/stable/user_install.html\n",
      "  from .autonotebook import tqdm as notebook_tqdm\n"
     ]
    }
   ],
   "source": [
    "embeddings = download_huggging_face_embeddings()"
   ]
  },
  {
   "cell_type": "code",
   "execution_count": 14,
   "metadata": {},
   "outputs": [
    {
     "name": "stdout",
     "output_type": "stream",
     "text": [
      "Length:  384\n"
     ]
    }
   ],
   "source": [
    "query_result = embeddings.embed_query(\"Hello World\")\n",
    "print(\"Length: \", len(query_result))"
   ]
  },
  {
   "cell_type": "code",
   "execution_count": 15,
   "metadata": {},
   "outputs": [],
   "source": [
    "from dotenv import load_dotenv\n",
    "load_dotenv()\n",
    "\n",
    "pinecone_api_key = os.getenv('PINECONE_API_KEY')"
   ]
  },
  {
   "cell_type": "code",
   "execution_count": 16,
   "metadata": {},
   "outputs": [],
   "source": [
    "from pinecone.grpc import PineconeGRPC as Pinecone\n",
    "from pinecone import ServerlessSpec\n",
    "\n",
    "pc = Pinecone(api_key=pinecone_api_key)\n",
    "\n",
    "index_name = \"medicalbot\"\n",
    "\n",
    "pc.create_index(\n",
    "  name=index_name,\n",
    "  dimension=384,\n",
    "  metric=\"cosine\",\n",
    "  spec=ServerlessSpec(\n",
    "    cloud=\"aws\",\n",
    "    region=\"us-east-1\"\n",
    "  )\n",
    ")\n"
   ]
  },
  {
   "cell_type": "code",
   "execution_count": 17,
   "metadata": {},
   "outputs": [],
   "source": [
    "os.environ[\"PINECONE_API_KEY\"] = pinecone_api_key"
   ]
  },
  {
   "cell_type": "code",
   "execution_count": null,
   "metadata": {},
   "outputs": [],
   "source": [
    "## Embed each chunk and upsert it into your Pinecone Index\n",
    "\n",
    "from langchain_pinecone import Pinecone\n",
    "\n",
    "docsearch = Pinecone.from_documents(\n",
    "    documents=text_chunks,\n",
    "    index_name=index_name,\n",
    "    embedding=embeddings,\n",
    ")"
   ]
  },
  {
   "cell_type": "code",
   "execution_count": 22,
   "metadata": {},
   "outputs": [],
   "source": [
    "## Load the existing Index\n",
    "\n",
    "from langchain_pinecone import Pinecone\n",
    "docsearch_retrieveal = Pinecone.from_existing_index(\n",
    "    index_name=index_name,\n",
    "    embedding=embeddings\n",
    ")"
   ]
  },
  {
   "cell_type": "code",
   "execution_count": 23,
   "metadata": {},
   "outputs": [
    {
     "data": {
      "text/plain": [
       "<langchain_pinecone.vectorstores.Pinecone at 0x260173d2260>"
      ]
     },
     "execution_count": 23,
     "metadata": {},
     "output_type": "execute_result"
    }
   ],
   "source": [
    "docsearch_retrieveal"
   ]
  },
  {
   "cell_type": "code",
   "execution_count": 25,
   "metadata": {},
   "outputs": [],
   "source": [
    "## do some search\n",
    "retriever = docsearch_retrieveal.as_retriever(search_type=\"similarity\", search_kwargs={\"k\":3})"
   ]
  },
  {
   "cell_type": "code",
   "execution_count": null,
   "metadata": {},
   "outputs": [
    {
     "data": {
      "text/plain": [
       "[Document(metadata={'page': 128.0, 'source': 'Data\\\\medical_book.pdf.pdf'}, page_content='Chemotherapy\\nDefinition\\nChemotherapy is treatment of cancer with anti-\\ncancer drugs.\\nPurpose\\nThe main purpose of chemotherapy is to kill cancer\\ncells. It is usually used to treat patients with cancer that\\nhas spread from the place in the body where it started\\n(metastasized). Chemotherapy destroys cancer cells any-\\nwhere in the body. It even kills cells that have broken off\\nfrom the main tumor and traveled through the blood or\\nlymph systems to other parts of the body.'),\n",
       " Document(metadata={'page': 24.0, 'source': 'Data\\\\medical_book.pdf.pdf'}, page_content='Chemotherapy\\nChemotherapy is the use of drugs to kill cancer cells.\\nIt destroys the hard-to-detect cancer cells that have\\nspread and are circulating in the body. Chemotherapeutic\\ndrugs can be taken either orally (by mouth) or intra-\\nvenously, and may be given alone or in conjunction with\\nsurgery, radiation or both.\\nWhen chemotherapy is used before surgery or radia-\\ntion, it is known as primary chemotherapy or “neoadju-\\nvant chemotherapy.” An advantage of neoadjuvant'),\n",
       " Document(metadata={'page': 24.0, 'source': 'Data\\\\medical_book.pdf.pdf'}, page_content='chemotherapy is that since the cancer cells have not been\\nexposed to anti-cancer drugs, they are especially vulnera-\\nble. It can therefore be used effectively to reduce the size\\nof the tumor for surgery or target it for radiation. Howev-\\ner, the toxic effects of neoadjuvant chemotherapy are\\nsevere. In addition, it may make the body less tolerant to\\nthe side effects of other treatments that follow such as\\nradiation therapy. The more common use of chemothera-')]"
      ]
     },
     "execution_count": 26,
     "metadata": {},
     "output_type": "execute_result"
    }
   ],
   "source": [
    "retrieved_docs = retriever.invoke(\"What is Chemotherapy\")\n"
   ]
  },
  {
   "cell_type": "code",
   "execution_count": 32,
   "metadata": {},
   "outputs": [
    {
     "data": {
      "text/plain": [
       "[Document(metadata={'page': 128.0, 'source': 'Data\\\\medical_book.pdf.pdf'}, page_content='Chemotherapy\\nDefinition\\nChemotherapy is treatment of cancer with anti-\\ncancer drugs.\\nPurpose\\nThe main purpose of chemotherapy is to kill cancer\\ncells. It is usually used to treat patients with cancer that\\nhas spread from the place in the body where it started\\n(metastasized). Chemotherapy destroys cancer cells any-\\nwhere in the body. It even kills cells that have broken off\\nfrom the main tumor and traveled through the blood or\\nlymph systems to other parts of the body.'),\n",
       " Document(metadata={'page': 24.0, 'source': 'Data\\\\medical_book.pdf.pdf'}, page_content='Chemotherapy\\nChemotherapy is the use of drugs to kill cancer cells.\\nIt destroys the hard-to-detect cancer cells that have\\nspread and are circulating in the body. Chemotherapeutic\\ndrugs can be taken either orally (by mouth) or intra-\\nvenously, and may be given alone or in conjunction with\\nsurgery, radiation or both.\\nWhen chemotherapy is used before surgery or radia-\\ntion, it is known as primary chemotherapy or “neoadju-\\nvant chemotherapy.” An advantage of neoadjuvant'),\n",
       " Document(metadata={'page': 24.0, 'source': 'Data\\\\medical_book.pdf.pdf'}, page_content='chemotherapy is that since the cancer cells have not been\\nexposed to anti-cancer drugs, they are especially vulnera-\\nble. It can therefore be used effectively to reduce the size\\nof the tumor for surgery or target it for radiation. Howev-\\ner, the toxic effects of neoadjuvant chemotherapy are\\nsevere. In addition, it may make the body less tolerant to\\nthe side effects of other treatments that follow such as\\nradiation therapy. The more common use of chemothera-')]"
      ]
     },
     "execution_count": 32,
     "metadata": {},
     "output_type": "execute_result"
    }
   ],
   "source": [
    "retrieved_docs"
   ]
  },
  {
   "cell_type": "code",
   "execution_count": 37,
   "metadata": {},
   "outputs": [],
   "source": [
    "import os\n",
    "from dotenv import load_dotenv\n",
    "load_dotenv()\n",
    "os.environ[\"GROQ_API_KEY\"] = os.getenv('GROQ_API_KEY')"
   ]
  },
  {
   "cell_type": "code",
   "execution_count": 38,
   "metadata": {},
   "outputs": [],
   "source": [
    "from langchain_groq import ChatGroq\n",
    "llm = ChatGroq(model_name=\"Gemma2-9b-It\")"
   ]
  },
  {
   "cell_type": "code",
   "execution_count": 41,
   "metadata": {},
   "outputs": [],
   "source": [
    "from langchain.chains import create_retrieval_chain\n",
    "from langchain.chains.combine_documents import create_stuff_documents_chain\n",
    "from langchain.prompts import ChatPromptTemplate\n",
    "\n",
    "system_prompt = (\n",
    "    \"\"\" \n",
    "    \"You are an assistant for question-answering tasks.\"\n",
    "    \"Use the following pieces of retrived context to answer \"\n",
    "    \"the question. if you don't know the answer, say that you \"\n",
    "    \"don't know. Use three sentences maximum and keep the answer concise.\"\n",
    "    \"\\n\\n\"\n",
    "    \"{context}\"\n",
    "\n",
    "    \"\"\"\n",
    ")\n",
    "\n",
    "prompt = ChatPromptTemplate.from_messages(\n",
    "    [\n",
    "        (\"system\",system_prompt),\n",
    "        (\"human\", \"{input}\"),\n",
    "    ]\n",
    ")\n"
   ]
  },
  {
   "cell_type": "code",
   "execution_count": 42,
   "metadata": {},
   "outputs": [],
   "source": [
    "question_anwering_chain = create_stuff_documents_chain(llm, prompt)\n",
    "rag_chain = create_retrieval_chain(retriever, question_anwering_chain)"
   ]
  },
  {
   "cell_type": "code",
   "execution_count": 43,
   "metadata": {},
   "outputs": [
    {
     "name": "stdout",
     "output_type": "stream",
     "text": [
      "Chemotherapy is a cancer treatment that uses drugs to kill cancer cells. \n",
      "\n",
      "It is often used to treat cancer that has spread to other parts of the body.  Chemotherapy drugs can be taken orally or intravenously.  \n",
      "\n",
      "\n"
     ]
    }
   ],
   "source": [
    "response = rag_chain.invoke({\"input\":\"What is Chemotherapy\"})\n",
    "print(response[\"answer\"])"
   ]
  },
  {
   "cell_type": "code",
   "execution_count": null,
   "metadata": {},
   "outputs": [],
   "source": []
  }
 ],
 "metadata": {
  "kernelspec": {
   "display_name": "Python 3",
   "language": "python",
   "name": "python3"
  },
  "language_info": {
   "codemirror_mode": {
    "name": "ipython",
    "version": 3
   },
   "file_extension": ".py",
   "mimetype": "text/x-python",
   "name": "python",
   "nbconvert_exporter": "python",
   "pygments_lexer": "ipython3",
   "version": "3.10.15"
  }
 },
 "nbformat": 4,
 "nbformat_minor": 2
}
